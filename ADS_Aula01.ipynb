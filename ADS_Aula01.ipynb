{
  "nbformat": 4,
  "nbformat_minor": 0,
  "metadata": {
    "colab": {
      "provenance": [],
      "authorship_tag": "ABX9TyOvK32X9bFF0B1MREWWdKwa",
      "include_colab_link": true
    },
    "kernelspec": {
      "name": "python3",
      "display_name": "Python 3"
    },
    "language_info": {
      "name": "python"
    }
  },
  "cells": [
    {
      "cell_type": "markdown",
      "metadata": {
        "id": "view-in-github",
        "colab_type": "text"
      },
      "source": [
        "<a href=\"https://colab.research.google.com/github/ithalo-teodosio/OuvidoriaProject/blob/main/ADS_Aula01.ipynb\" target=\"_parent\"><img src=\"https://colab.research.google.com/assets/colab-badge.svg\" alt=\"Open In Colab\"/></a>"
      ]
    },
    {
      "cell_type": "markdown",
      "source": [
        "**UNIFACISA - ADS**\n",
        "Aluno: Ithalo Teodósio Nascimento - 20/02/2025"
      ],
      "metadata": {
        "id": "x9W_rB9hVHlX"
      }
    },
    {
      "cell_type": "code",
      "source": [
        "a = 100\n",
        "b = 350\n",
        "c = (a * b)"
      ],
      "metadata": {
        "id": "5ZNCSFlwVZDu"
      },
      "execution_count": 2,
      "outputs": []
    },
    {
      "cell_type": "code",
      "source": [
        "print(\"primeiro valor\", a)"
      ],
      "metadata": {
        "colab": {
          "base_uri": "https://localhost:8080/"
        },
        "id": "Al0qtLKZVyoO",
        "outputId": "f2a58f29-722f-42c6-c06c-b99a0c8f41d3"
      },
      "execution_count": 3,
      "outputs": [
        {
          "output_type": "stream",
          "name": "stdout",
          "text": [
            "primeiro valor 100\n"
          ]
        }
      ]
    },
    {
      "cell_type": "code",
      "source": [
        "print(\"segundo valor\", b)"
      ],
      "metadata": {
        "colab": {
          "base_uri": "https://localhost:8080/"
        },
        "id": "Cpaqa8kiV54Y",
        "outputId": "3caf180b-60bf-4c10-87df-c14b875b224d"
      },
      "execution_count": 4,
      "outputs": [
        {
          "output_type": "stream",
          "name": "stdout",
          "text": [
            "segundo valor 350\n"
          ]
        }
      ]
    },
    {
      "cell_type": "code",
      "source": [
        "print(\"multiplicador:\", c)"
      ],
      "metadata": {
        "colab": {
          "base_uri": "https://localhost:8080/"
        },
        "id": "qejzZp3mV-zc",
        "outputId": "0cab67f8-1280-4d0c-f2e8-142a889cd2c9"
      },
      "execution_count": 5,
      "outputs": [
        {
          "output_type": "stream",
          "name": "stdout",
          "text": [
            "multiplicador: 35000\n"
          ]
        }
      ]
    },
    {
      "cell_type": "code",
      "source": [],
      "metadata": {
        "id": "miV1D7V6WEXL"
      },
      "execution_count": null,
      "outputs": []
    }
  ]
}